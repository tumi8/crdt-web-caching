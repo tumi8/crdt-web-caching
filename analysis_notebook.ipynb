{
 "cells": [
  {
   "metadata": {},
   "cell_type": "markdown",
   "source": "# CRDT Web Caching Analysis",
   "id": "ece8a8a7fc03aeea"
  },
  {
   "cell_type": "code",
   "id": "initial_id",
   "metadata": {
    "collapsed": true,
    "ExecuteTime": {
     "end_time": "2024-10-23T14:51:58.886779Z",
     "start_time": "2024-10-23T14:51:58.646127Z"
    }
   },
   "source": [
    "import os\n",
    "import re\n",
    "import subprocess\n",
    "from dataclasses import dataclass, field\n",
    "from io import StringIO\n",
    "from pathlib import Path\n",
    "from typing import Callable, Tuple\n",
    "\n",
    "import matplotlib.pyplot as plt\n",
    "import numpy as np\n",
    "import pandas as pd\n",
    "import seaborn as sns\n",
    "import tikzplotlib\n",
    "from matplotlib.axis import Axis\n",
    "import plotly.express as px"
   ],
   "outputs": [],
   "execution_count": 1
  },
  {
   "cell_type": "code",
   "source": [
    "sns.set_theme(style=\"ticks\")\n",
    "plt.rcParams.update(\n",
    "    {\n",
    "        \"font.family\": \"serif\",\n",
    "        'font.size': 9,\n",
    "        \"pgf.rcfonts\": False,\n",
    "        'figure.titlesize':  9,\n",
    "        'axes.titlesize':  8,\n",
    "        'ytick.labelsize':   8,\n",
    "        'xtick.labelsize':   8,\n",
    "        'axes.labelsize': 8,\n",
    "        'legend.fontsize': 8,\n",
    "        'legend.title_fontsize': 8,\n",
    "    }\n",
    ")\n",
    "\n",
    "FIGURE_WIDTH = 5.47807\n",
    "FIGURE_HEIGHT = FIGURE_WIDTH * 0.618\n",
    "plt.rcParams['figure.figsize'] = (FIGURE_WIDTH, FIGURE_HEIGHT)\n",
    "COLOR_PALETTE_NAME = 'deep'\n",
    "COLOR_PALETTE = sns.color_palette(COLOR_PALETTE_NAME)\n",
    "LINE_STYLES = ['-', '--', ':', '-.']\n",
    "\n",
    "%matplotlib inline"
   ],
   "metadata": {
    "collapsed": false,
    "ExecuteTime": {
     "end_time": "2024-10-23T14:51:58.898866Z",
     "start_time": "2024-10-23T14:51:58.887747Z"
    }
   },
   "id": "f1e354792cc6fb34",
   "outputs": [],
   "execution_count": 2
  },
  {
   "cell_type": "code",
   "source": [
    "def grep_to_pandas( searh_string: str, file: Path, extract_json = False) -> pd.DataFrame | None:\n",
    "    try:\n",
    "        json_string = subprocess.check_output([ 'grep', '-F', searh_string, str(file)], text=True)\n",
    "    except subprocess.CalledProcessError as e:\n",
    "        if e.returncode == 1:\n",
    "            return None\n",
    "        else:\n",
    "            raise e\n",
    "    def parse_rows(json_string: str):\n",
    "        for row in json_string.splitlines():\n",
    "            yield re.search(r'{.*}', row).group(0)\n",
    "    if extract_json:\n",
    "        json_string = os.linesep.join(parse_rows(json_string))\n",
    "    \n",
    "    result_pdf = pd.read_json(StringIO(json_string), lines=True).sort_values(by='time', ascending=True)\n",
    "    return result_pdf\n",
    "def parse_rows(pdf: pd.DataFrame, sorted_buckets: dict):\n",
    "    current_bucket = 1\n",
    "    last_bucket_time = sorted_buckets[current_bucket]\n",
    "    current_bucket_time = sorted_buckets[current_bucket+1]\n",
    "    for row in pdf.itertuples():\n",
    "        row_time = row.time\n",
    "        while row_time > current_bucket_time:\n",
    "            current_bucket += 1\n",
    "            if len(sorted_buckets) > current_bucket + 1:\n",
    "                last_bucket_time = sorted_buckets[current_bucket]\n",
    "                current_bucket_time = sorted_buckets[current_bucket + 1]\n",
    "            else:\n",
    "                current_bucket_time = np.Inf\n",
    "        yield [current_bucket, current_bucket_time - last_bucket_time]\n",
    "def bucket_df(pdf: pd.DataFrame, mininet_pdf: pd.DataFrame) -> pd.DataFrame:\n",
    "    sorted_buckets = mininet_pdf.set_index('active_clients')['time'].sort_values(ascending=True).to_dict()\n",
    "    bucket_column = pd.DataFrame.from_records(parse_rows(pdf, sorted_buckets), columns=['bucket', 'bucket_time'])\n",
    "    pdf2 = pdf.copy()\n",
    "    pdf2['active_clients'] = bucket_column['bucket']\n",
    "    pdf2['active_clients_duration'] = bucket_column['bucket_time']\n",
    "    return pdf2"
   ],
   "metadata": {
    "collapsed": false,
    "ExecuteTime": {
     "end_time": "2024-10-23T14:51:58.957714Z",
     "start_time": "2024-10-23T14:51:58.900180Z"
    }
   },
   "id": "12164df11e92c5ef",
   "outputs": [],
   "execution_count": 3
  },
  {
   "cell_type": "code",
   "source": [
    "MAX_CLIENTS = 100\n",
    "CLIENT_GET_SUCESS_MSG = '\"type\": \"Versioning\"'\n",
    "CLIENT_WRITE_SUCESS_MSG = '\"type\": \"Success\"'\n",
    "CLIENT_CONFLICT_MSG = '\"type\": \"Conflict\"'\n",
    "CLIENT_INCONSISTENT_MSG = '\"type\": \"Inconsistent\"'\n",
    "CLIENT_FAILURE_MSG = '\"type\": \"Failure\"'\n",
    "ORIGIN_VERSIONING_MSG = '\"type\":\"Versioning\"'\n",
    "\n",
    "@dataclass\n",
    "class Experiment:\n",
    "    name_internal: str\n",
    "    location: Path\n",
    "    main_df: pd.DataFrame = field(repr=False)\n",
    "    cached_clients: dict[str, pd.DataFrame] = field(repr=False)\n",
    "    _experiment_duration: float\n",
    "    \n",
    "    def __init__(self, name: str, location: Path):\n",
    "        self.name_internal = name\n",
    "        self.location = location\n",
    "        if not location.exists():\n",
    "            raise FileNotFoundError(f'Could not find any data under {location}')\n",
    "        self.main_df = grep_to_pandas('\"type\": \"Update\"', location / 'mininet.log', extract_json=True)\n",
    "        self.cached_clients = dict()\n",
    "        self._experiment_duration = None\n",
    "    \n",
    "    def client_pdf(self, grep_search: str = CLIENT_GET_SUCESS_MSG):\n",
    "        if grep_search not in self.cached_clients:\n",
    "            found_files = list(self.client_pdfs(grep_search))\n",
    "            if len(found_files) == 0:\n",
    "                self.cached_clients[grep_search] = None\n",
    "            else:\n",
    "                self.cached_clients[grep_search] = pd.concat(found_files)\n",
    "        return self.cached_clients[grep_search]\n",
    "    \n",
    "    def client_pdfs(self, grep_search):\n",
    "        for file_path in self.location.iterdir():\n",
    "            file_match = re.search(r'client_(\\d*).log', file_path.name)\n",
    "            if file_match:\n",
    "                client_number = int(file_match.group(1))\n",
    "                if client_number < MAX_CLIENTS:\n",
    "                    client_pdf = grep_to_pandas(grep_search, file_path)\n",
    "                    if client_pdf is not None:\n",
    "                        r_pdf = bucket_df(client_pdf, self.main_df)\n",
    "                        r_pdf['duration'] = r_pdf['duration'] / 10**6\n",
    "                        r_pdf['active_clients_duration'] = r_pdf['active_clients_duration'] / 10**6\n",
    "                        r_pdf['client_number'] = client_number\n",
    "                        yield r_pdf[r_pdf['active_clients'] < MAX_CLIENTS]\n",
    "    @property\n",
    "    def name(self):\n",
    "        if self.name_internal == 'cache':\n",
    "            return 'Invalidations'\n",
    "        if self.name_internal == 'crdt':\n",
    "            return 'CRDT'\n",
    "        if self.name_internal == 'proxy':\n",
    "            return 'None'\n",
    "        if self.name_internal == 'ttl':\n",
    "            return 'TTL (5min)'\n",
    "        return self.name_internal\n",
    "    \n",
    "    @property\n",
    "    def experiment_duration(self):\n",
    "        \"\"\"The duration of the whole experiment in ms\"\"\"\n",
    "        if self._experiment_duration is None:\n",
    "            self._experiment_duration = self.client_pdf()[['active_clients', 'active_clients_duration']].groupby('active_clients').agg('max').sum().iloc[0]\n",
    "        return self._experiment_duration\n",
    "        \n",
    "    def origin_df(self):\n",
    "        origin_pdf = grep_to_pandas(ORIGIN_VERSIONING_MSG, self.location / 'origin.log', extract_json=True)\n",
    "        origin_pdf = origin_pdf.groupby(['type', 'object', 'version']).min()[['time']].reset_index()\n",
    "        main_df2 = self.main_df.copy()\n",
    "        main_df2['time'] = main_df2['time'] / 10**3\n",
    "        r_pdf = bucket_df(origin_pdf, main_df2)\n",
    "        r_pdf['active_clients_duration'] = r_pdf['active_clients_duration'] / 10**3\n",
    "        return r_pdf\n",
    "    \n",
    "class Scenario:\n",
    "    location: Path\n",
    "    experiments: list[Experiment]\n",
    "    name: str\n",
    "    \n",
    "    def __init__(self, location: Path):\n",
    "        self.location = location\n",
    "        self.name = location.name\n",
    "        self.experiments = [ Experiment(exp.name, exp) for exp in location.iterdir() if exp.is_dir()]\n",
    "        \n",
    "    def map_experiment(self, mapper: Callable[[Experiment], pd.Series]) -> pd.DataFrame:  \n",
    "        return pd.concat([ mapper(exp).rename(exp.name) for exp in self.experiments ], axis=1)\n",
    "    \n",
    "    def map_experiment_long(self, mapper: Callable[[Experiment], pd.DataFrame]) -> pd.DataFrame:\n",
    "        results = []\n",
    "        for exp in self.experiments:\n",
    "            r = mapper(exp).copy()\n",
    "            r['experiment'] = exp.name\n",
    "            results.append(r)\n",
    "        return pd.concat(results, axis=0)"
   ],
   "metadata": {
    "collapsed": false,
    "ExecuteTime": {
     "end_time": "2024-10-23T14:51:58.971920Z",
     "start_time": "2024-10-23T14:51:58.959462Z"
    }
   },
   "id": "983a3a35fa1cfa4",
   "outputs": [],
   "execution_count": 4
  },
  {
   "cell_type": "code",
   "source": [
    "def save_tikz_plot(filename: str, legendTitle = None, *args, **kwargs):\n",
    "    filepath = plot_dir / filename\n",
    "    code: str = tikzplotlib.get_tikz_code(*args, filepath=filepath, **kwargs)\\\n",
    "        .replace('1pt off 3pt on 3pt off 3pt', '1pt off 2pt on 3pt off 2pt')\\\n",
    "        .replace('dotted', 'densely dotted')\\\n",
    "        .replace('dashed', 'densely dashed')\\\n",
    "        .replace('legend style={', 'legend style={ font=\\footnotesize,')\\\n",
    "        .replace('CRDT', '\\\\thename{}')\n",
    "    if legendTitle is not None:\n",
    "        insertHere = code.find('\\\\addplot')\n",
    "        code = code[:insertHere] + '\\\\addlegendimage{empty legend}\\n' + f'\\\\addlegendentry{{\\hspace{{-.6cm}}{legendTitle}}}\\n' + code[insertHere:]\n",
    "    filepath.write_text(code)\n",
    "def plot_flights_forum_plots_advanced(plot_pdfs: list[Tuple[str, pd.DataFrame]], plot_pdf: Callable[[pd.DataFrame, plt.Axes, bool], None], reverse_plotting=True, name: str = None, ylabel: str=None, xlabel: str=None, legend_title: str = None, x_unit: str = None, y_unit: str = None, legend_loc='upper left', plot_size=(.565, .4), no_legend=False):\n",
    "    first = True\n",
    "    x_bounds = None\n",
    "    y_bounds = None\n",
    "    mainfig, axs = plt.subplots(1, len(plot_pdfs), figsize=(FIGURE_WIDTH * (.75 * (len(plot_pdfs))), FIGURE_HEIGHT), sharey='all')\n",
    "    mainfig.tight_layout()\n",
    "    \n",
    "    \n",
    "    if reverse_plotting:\n",
    "        plot_pdfs = reversed(plot_pdfs)\n",
    "        axs = reversed(axs)\n",
    "        first = False\n",
    "    \n",
    "    try:\n",
    "        len(axs)\n",
    "    except TypeError:\n",
    "        axs = [axs]\n",
    "    \n",
    "    if no_legend:\n",
    "        first=False\n",
    "    \n",
    "    \n",
    "    for (scenario_name, pdf), ax2 in zip(plot_pdfs, axs):\n",
    "        ax: Axis\n",
    "        fig, ax = plt.subplots()\n",
    "        extra_axis_parameters = ['ylabel style={inner sep=0pt}', 'title style={yshift=-1.5ex}']\n",
    "        \n",
    "        plot_pdf(pdf, ax, first)\n",
    "        plot_pdf(pdf, ax2, first)\n",
    "        \n",
    "        if first:\n",
    "            ax.set_ylabel(ylabel)\n",
    "            ax.legend(title=legend_title, loc=legend_loc)\n",
    "            ax2.legend(title=legend_title, loc=legend_loc)\n",
    "            ax2.set_ylabel(ylabel + (f' [{y_unit}]' if y_unit is not None else ''))\n",
    "            if y_unit is not None:\n",
    "                extra_axis_parameters.append(f'y unit = {y_unit}')\n",
    "        else:\n",
    "            ax.set_yticklabels([])\n",
    "        ax.set_xlabel(xlabel)\n",
    "        ax2.set_xlabel(xlabel + (f' [{x_unit}]' if x_unit is not None else ''))\n",
    "        ax2.set_title(scenario_name.capitalize() + ' Scenario')\n",
    "        \n",
    "        if x_bounds is None:\n",
    "            x_bounds = ax.get_xbound()\n",
    "            y_bounds = ax.get_ybound()\n",
    "        else:\n",
    "            ax.set_xlim(x_bounds)\n",
    "            ax.set_ylim(y_bounds)\n",
    "            \n",
    "        \n",
    "        if not first:\n",
    "            extra_axis_parameters.append('yticklabels={}')\n",
    "        if x_unit is not None:\n",
    "            extra_axis_parameters.append(f'x unit = {x_unit}')\n",
    "        \n",
    "        save_tikz_plot(f'{name.replace(\" \", \"_\")}_{scenario_name}.tex', legendTitle=legend_title if first else None,\n",
    "                 extra_groupstyle_parameters=['horizontal sep=3ex'],\n",
    "                 extra_axis_parameters=extra_axis_parameters,\n",
    "                 # extra_axis_parameters=['yticklabel={\\pgfmathparse{\\\\tick*100}\\pgfmathprintnumber{\\pgfmathresult}\\%}', 'xticklabel={\\pgfmathparse{\\\\tick*100}\\pgfmathprintnumber{\\pgfmathresult}\\%}',\n",
    "                 #'x unit =\\%'\n",
    "             extra_lines_start=['\\\\footnotesize', f'\\\\pgfplotsset{{width={plot_size[0]}\\\\columnwidth,height={plot_size[1]}\\\\columnwidth}}'])\n",
    "        plt.close(fig)\n",
    "        if reverse_plotting:\n",
    "            first = not first\n",
    "        else:\n",
    "            first = False"
   ],
   "metadata": {
    "collapsed": false,
    "ExecuteTime": {
     "end_time": "2024-10-23T14:51:58.982873Z",
     "start_time": "2024-10-23T14:51:58.973277Z"
    }
   },
   "id": "f04b19f4df86d068",
   "outputs": [],
   "execution_count": 5
  },
  {
   "cell_type": "code",
   "source": [
    "experiment_data_dir = Path('./data')\n",
    "plot_dir = Path('./plots')\n",
    "plot_dir.mkdir(exist_ok=True)"
   ],
   "metadata": {
    "collapsed": false,
    "ExecuteTime": {
     "end_time": "2024-10-23T14:51:58.991313Z",
     "start_time": "2024-10-23T14:51:58.988753Z"
    }
   },
   "id": "c99af95cd7e10c7f",
   "outputs": [],
   "execution_count": 6
  },
  {
   "cell_type": "code",
   "source": [
    "flight_scenario = Scenario(experiment_data_dir / 'flights')"
   ],
   "metadata": {
    "collapsed": false,
    "ExecuteTime": {
     "end_time": "2024-10-23T14:51:59.052358Z",
     "start_time": "2024-10-23T14:51:58.992569Z"
    }
   },
   "id": "268fae4ddcbe6685",
   "outputs": [],
   "execution_count": 7
  },
  {
   "cell_type": "code",
   "source": [
    "forum_scenario = Scenario(experiment_data_dir / 'forums')"
   ],
   "metadata": {
    "collapsed": false,
    "ExecuteTime": {
     "end_time": "2024-10-23T14:51:59.109773Z",
     "start_time": "2024-10-23T14:51:59.054328Z"
    }
   },
   "id": "e221ed369bf55bc5",
   "outputs": [],
   "execution_count": 8
  },
  {
   "cell_type": "code",
   "source": [
    "def calculate_requests_per_client(exp: Experiment):    \n",
    "    read_request = exp.client_pdf()\n",
    "    write_requests = exp.client_pdf(CLIENT_WRITE_SUCESS_MSG)\n",
    "    result = pd.concat([ read_request, write_requests])[['active_clients', 'active_clients_duration', 'type']].groupby('active_clients').agg(['count', 'max']).reset_index().set_index('active_clients')\n",
    "    return result[('type', 'count')] / (result[('active_clients_duration', 'max')] / (1 * 1000)) # count per second"
   ],
   "metadata": {
    "collapsed": false,
    "ExecuteTime": {
     "end_time": "2024-10-23T14:51:59.115026Z",
     "start_time": "2024-10-23T14:51:59.111313Z"
    }
   },
   "id": "43e05e7f593599f8",
   "outputs": [],
   "execution_count": 9
  },
  {
   "cell_type": "code",
   "source": [
    "requests_per_client_flights_pdf = flight_scenario.map_experiment(calculate_requests_per_client)"
   ],
   "metadata": {
    "collapsed": false,
    "ExecuteTime": {
     "end_time": "2024-10-23T14:54:31.532156Z",
     "start_time": "2024-10-23T14:51:59.116203Z"
    }
   },
   "id": "818e2957f9dbfc2c",
   "outputs": [],
   "execution_count": 10
  },
  {
   "cell_type": "code",
   "source": [
    "requests_per_client_forums_pdf = forum_scenario.map_experiment(calculate_requests_per_client)"
   ],
   "metadata": {
    "collapsed": false,
    "ExecuteTime": {
     "end_time": "2024-10-23T14:57:08.104079Z",
     "start_time": "2024-10-23T14:54:31.535836Z"
    }
   },
   "id": "c6dff709dddb970f",
   "outputs": [],
   "execution_count": 11
  },
  {
   "cell_type": "code",
   "source": [
    "def total_requests_per_client(scenario: Scenario):\n",
    "    my_pdf = scenario.map_experiment_long(lambda exp: pd.DataFrame(pd.concat([exp.client_pdf()[['type']], exp.client_pdf(CLIENT_WRITE_SUCESS_MSG)[['type']]]).agg('count') / (exp.experiment_duration / 1000), columns=['count'])) \n",
    "    # my_pdf = my_pdf[['experiment', 'type']].groupby('experiment').agg('count').reset_index()\n",
    "    my_pdf['scenario'] = scenario.name\n",
    "    return my_pdf.set_index(['scenario', 'experiment']).rename(columns={'count': 'total_requests_per_second'})\n",
    "total_requests_summary = pd.concat(map(total_requests_per_client, [flight_scenario, forum_scenario]))\n",
    "total_requests_summary"
   ],
   "metadata": {
    "collapsed": false,
    "ExecuteTime": {
     "end_time": "2024-10-23T14:57:12.217694Z",
     "start_time": "2024-10-23T14:57:08.108443Z"
    }
   },
   "id": "b42b84f683d96ba0",
   "outputs": [
    {
     "data": {
      "text/plain": [
       "                        total_requests_per_second\n",
       "scenario experiment                              \n",
       "flights  CRDT                          252.276565\n",
       "         TTL (5min)                    281.073802\n",
       "         None                          148.585120\n",
       "         Invalidations                 200.709571\n",
       "forums   CRDT                          527.326293\n",
       "         TTL (5min)                    512.089851\n",
       "         None                          270.018559\n",
       "         Invalidations                 437.719627"
      ],
      "text/html": [
       "<div>\n",
       "<style scoped>\n",
       "    .dataframe tbody tr th:only-of-type {\n",
       "        vertical-align: middle;\n",
       "    }\n",
       "\n",
       "    .dataframe tbody tr th {\n",
       "        vertical-align: top;\n",
       "    }\n",
       "\n",
       "    .dataframe thead th {\n",
       "        text-align: right;\n",
       "    }\n",
       "</style>\n",
       "<table border=\"1\" class=\"dataframe\">\n",
       "  <thead>\n",
       "    <tr style=\"text-align: right;\">\n",
       "      <th></th>\n",
       "      <th></th>\n",
       "      <th>total_requests_per_second</th>\n",
       "    </tr>\n",
       "    <tr>\n",
       "      <th>scenario</th>\n",
       "      <th>experiment</th>\n",
       "      <th></th>\n",
       "    </tr>\n",
       "  </thead>\n",
       "  <tbody>\n",
       "    <tr>\n",
       "      <th rowspan=\"4\" valign=\"top\">flights</th>\n",
       "      <th>CRDT</th>\n",
       "      <td>252.276565</td>\n",
       "    </tr>\n",
       "    <tr>\n",
       "      <th>TTL (5min)</th>\n",
       "      <td>281.073802</td>\n",
       "    </tr>\n",
       "    <tr>\n",
       "      <th>None</th>\n",
       "      <td>148.585120</td>\n",
       "    </tr>\n",
       "    <tr>\n",
       "      <th>Invalidations</th>\n",
       "      <td>200.709571</td>\n",
       "    </tr>\n",
       "    <tr>\n",
       "      <th rowspan=\"4\" valign=\"top\">forums</th>\n",
       "      <th>CRDT</th>\n",
       "      <td>527.326293</td>\n",
       "    </tr>\n",
       "    <tr>\n",
       "      <th>TTL (5min)</th>\n",
       "      <td>512.089851</td>\n",
       "    </tr>\n",
       "    <tr>\n",
       "      <th>None</th>\n",
       "      <td>270.018559</td>\n",
       "    </tr>\n",
       "    <tr>\n",
       "      <th>Invalidations</th>\n",
       "      <td>437.719627</td>\n",
       "    </tr>\n",
       "  </tbody>\n",
       "</table>\n",
       "</div>"
      ]
     },
     "execution_count": 12,
     "metadata": {},
     "output_type": "execute_result"
    }
   ],
   "execution_count": 12
  },
  {
   "cell_type": "code",
   "source": [
    "for plot_me in [('flights', requests_per_client_flights_pdf), ('forums', requests_per_client_forums_pdf)]:\n",
    "    plot_flights_forum_plots_advanced([plot_me], reverse_plotting=False,\n",
    "        plot_pdf = lambda pdf, ax, first: pdf.plot(color=COLOR_PALETTE, style=LINE_STYLES, ax=ax, legend='auto' if first else None),\n",
    "        name = 'request_per_client',\n",
    "        ylabel='Requests per Second', xlabel='Experiment Duration', x_unit= 'min', legend_title='API Caching Approach'\n",
    ")"
   ],
   "metadata": {
    "collapsed": false,
    "ExecuteTime": {
     "end_time": "2024-10-23T14:57:12.609017Z",
     "start_time": "2024-10-23T14:57:12.219643Z"
    }
   },
   "id": "df6bad51add859e8",
   "outputs": [
    {
     "data": {
      "text/plain": [
       "<Figure size 410.855x338.545 with 1 Axes>"
      ],
      "image/png": "[encoded data removed]"
     },
     "metadata": {},
     "output_type": "display_data"
    },
    {
     "data": {
      "text/plain": [
       "<Figure size 410.855x338.545 with 1 Axes>"
      ],
      "image/png": "[encoded data removed]"
     },
     "metadata": {},
     "output_type": "display_data"
    }
   ],
   "execution_count": 13
  },
  {
   "metadata": {
    "ExecuteTime": {
     "end_time": "2024-10-23T14:57:12.878559Z",
     "start_time": "2024-10-23T14:57:12.610488Z"
    }
   },
   "cell_type": "code",
   "source": [
    "# Interactive Version of Plots\n",
    "for plot_me in [\n",
    "    ('request_per_client_flights', '(a) Flight Scenario', requests_per_client_flights_pdf), \n",
    "    ('request_per_client_forums', '(b) Forum Scenario', requests_per_client_forums_pdf)\n",
    "]:\n",
    "    fig = px.line(plot_me[2].rename(columns={ 'CRDT': 'CRDT Web Caching'}))\n",
    "    fig.update_layout(xaxis_title='Experiment Duration',\n",
    "                       yaxis_title='Throughput [requests/s]', legend_title_text='API Caching Approach', hovermode=\"x unified\",  title=plot_me[1],\n",
    "                      paper_bgcolor='rgba(0,0,0,0)')\n",
    "    fig.update_xaxes(ticksuffix=' min')\n",
    "    fig.update_traces(hovertemplate=None)\n",
    "    fig.write_html(plot_dir / f'{plot_me[0]}.html', full_html=False, include_plotlyjs='directory')\n",
    "    # fig.show()"
   ],
   "id": "25352bd1a88da3b2",
   "outputs": [],
   "execution_count": 14
  },
  {
   "cell_type": "code",
   "source": [
    "def get_read_latency_summary(scenario: Scenario):\n",
    "    result_pdf = scenario.map_experiment_long(lambda exp: pd.DataFrame(exp.client_pdf()[['duration']].agg('mean'), columns=['mean_read_latency']))\n",
    "    #result_pdf = pdf[['experiment', 'duration']].groupby('experiment').agg('mean').reset_index()\n",
    "    result_pdf['scenario'] = scenario.name\n",
    "    return result_pdf.set_index(['scenario', 'experiment'])\n",
    "read_latencies_summary_pdf = pd.concat([get_read_latency_summary(flight_scenario), get_read_latency_summary(forum_scenario)])\n",
    "read_latencies_summary_pdf"
   ],
   "metadata": {
    "collapsed": false,
    "ExecuteTime": {
     "end_time": "2024-10-23T14:57:12.982405Z",
     "start_time": "2024-10-23T14:57:12.880335Z"
    }
   },
   "id": "91832f8f0d2c1c4f",
   "outputs": [
    {
     "data": {
      "text/plain": [
       "                        mean_read_latency\n",
       "scenario experiment                      \n",
       "flights  CRDT                   91.134738\n",
       "         TTL (5min)             79.086224\n",
       "         None                  334.945002\n",
       "         Invalidations         106.772508\n",
       "forums   CRDT                   94.664408\n",
       "         TTL (5min)             84.986418\n",
       "         None                  184.969377\n",
       "         Invalidations         105.462133"
      ],
      "text/html": [
       "<div>\n",
       "<style scoped>\n",
       "    .dataframe tbody tr th:only-of-type {\n",
       "        vertical-align: middle;\n",
       "    }\n",
       "\n",
       "    .dataframe tbody tr th {\n",
       "        vertical-align: top;\n",
       "    }\n",
       "\n",
       "    .dataframe thead th {\n",
       "        text-align: right;\n",
       "    }\n",
       "</style>\n",
       "<table border=\"1\" class=\"dataframe\">\n",
       "  <thead>\n",
       "    <tr style=\"text-align: right;\">\n",
       "      <th></th>\n",
       "      <th></th>\n",
       "      <th>mean_read_latency</th>\n",
       "    </tr>\n",
       "    <tr>\n",
       "      <th>scenario</th>\n",
       "      <th>experiment</th>\n",
       "      <th></th>\n",
       "    </tr>\n",
       "  </thead>\n",
       "  <tbody>\n",
       "    <tr>\n",
       "      <th rowspan=\"4\" valign=\"top\">flights</th>\n",
       "      <th>CRDT</th>\n",
       "      <td>91.134738</td>\n",
       "    </tr>\n",
       "    <tr>\n",
       "      <th>TTL (5min)</th>\n",
       "      <td>79.086224</td>\n",
       "    </tr>\n",
       "    <tr>\n",
       "      <th>None</th>\n",
       "      <td>334.945002</td>\n",
       "    </tr>\n",
       "    <tr>\n",
       "      <th>Invalidations</th>\n",
       "      <td>106.772508</td>\n",
       "    </tr>\n",
       "    <tr>\n",
       "      <th rowspan=\"4\" valign=\"top\">forums</th>\n",
       "      <th>CRDT</th>\n",
       "      <td>94.664408</td>\n",
       "    </tr>\n",
       "    <tr>\n",
       "      <th>TTL (5min)</th>\n",
       "      <td>84.986418</td>\n",
       "    </tr>\n",
       "    <tr>\n",
       "      <th>None</th>\n",
       "      <td>184.969377</td>\n",
       "    </tr>\n",
       "    <tr>\n",
       "      <th>Invalidations</th>\n",
       "      <td>105.462133</td>\n",
       "    </tr>\n",
       "  </tbody>\n",
       "</table>\n",
       "</div>"
      ]
     },
     "execution_count": 15,
     "metadata": {},
     "output_type": "execute_result"
    }
   ],
   "execution_count": 15
  },
  {
   "cell_type": "code",
   "source": [
    "def calculate_read_latency(exp: Experiment):\n",
    "    return exp.client_pdf().groupby('active_clients')['duration'].median()\n",
    "\n",
    "read_latency_per_client_flights_pdf = flight_scenario.map_experiment(calculate_read_latency)\n",
    "read_latency_per_client_forums_pdf = forum_scenario.map_experiment(calculate_read_latency)"
   ],
   "metadata": {
    "collapsed": false,
    "ExecuteTime": {
     "end_time": "2024-10-23T14:57:13.434793Z",
     "start_time": "2024-10-23T14:57:12.983809Z"
    }
   },
   "id": "c6b43aaae75359db",
   "outputs": [],
   "execution_count": 16
  },
  {
   "cell_type": "code",
   "source": [
    "def calculate_write_latency(exp: Experiment):\n",
    "    return exp.client_pdf(CLIENT_WRITE_SUCESS_MSG).groupby('active_clients')['duration'].median()\n",
    "\n",
    "write_latency_per_client_flights_pdf = flight_scenario.map_experiment(calculate_write_latency)\n",
    "write_latency_per_client_forums_pdf = forum_scenario.map_experiment(calculate_write_latency)"
   ],
   "metadata": {
    "collapsed": false,
    "ExecuteTime": {
     "end_time": "2024-10-23T14:57:13.558504Z",
     "start_time": "2024-10-23T14:57:13.435893Z"
    }
   },
   "id": "ff673a0bc6a7825",
   "outputs": [],
   "execution_count": 17
  },
  {
   "cell_type": "code",
   "source": [
    "plot_me = [\n",
    "    ('flights read', read_latency_per_client_flights_pdf), \n",
    "    ('forums read', read_latency_per_client_forums_pdf), \n",
    "    ('flights write', write_latency_per_client_flights_pdf), \n",
    "    ('forums write', write_latency_per_client_forums_pdf)]\n",
    "plot_flights_forum_plots_advanced(plot_me, reverse_plotting=False,\n",
    "     plot_pdf = lambda pdf, ax, first: pdf.plot(color=COLOR_PALETTE, style=LINE_STYLES, ax=ax, legend='auto' if first else None),\n",
    "     name = 'latency_per_client',\n",
    "     ylabel='Median Latency', xlabel='Experiment Duration', y_unit= 'ms', x_unit='min', legend_title='API Caching Approach', no_legend=True\n",
    ")"
   ],
   "metadata": {
    "collapsed": false,
    "ExecuteTime": {
     "end_time": "2024-10-23T14:57:14.190665Z",
     "start_time": "2024-10-23T14:57:13.560258Z"
    }
   },
   "id": "9b5e7253567f179f",
   "outputs": [
    {
     "data": {
      "text/plain": [
       "<Figure size 1643.42x338.545 with 4 Axes>"
      ],
      "image/png": "[encoded data removed]"
     },
     "metadata": {},
     "output_type": "display_data"
    }
   ],
   "execution_count": 18
  },
  {
   "metadata": {
    "ExecuteTime": {
     "end_time": "2024-10-23T14:57:14.408987Z",
     "start_time": "2024-10-23T14:57:14.191701Z"
    }
   },
   "cell_type": "code",
   "source": [
    "# Interactive Version of Plots\n",
    "for plot_me in [\n",
    "    ('latency_per_client_flights_read', '(a) Read Requests - Flight Scenario', read_latency_per_client_flights_pdf), \n",
    "    ('latency_per_client_forums_read', '(b) Read Requests - Forum Scenario', read_latency_per_client_forums_pdf), \n",
    "    ('latency_per_client_flights_write', '(c) Write Requests - Flight Scenario', write_latency_per_client_flights_pdf), \n",
    "    ('latency_per_client_forums_write', '(d) Write Requests - Forum Scenario', write_latency_per_client_forums_pdf)]:\n",
    "    fig = px.line(plot_me[2].rename(columns={ 'CRDT': 'CRDT Web Caching'}))\n",
    "    fig.update_layout(xaxis_title='Experiment Duration',\n",
    "    yaxis_title = 'Median Latency', legend_title_text = 'API Caching Approach', hovermode = \"x unified\", title=plot_me[1],\n",
    "    paper_bgcolor = 'rgba(0,0,0,0)')\n",
    "    fig.update_xaxes(ticksuffix=' min')\n",
    "    fig.update_yaxes(ticksuffix=' ms')\n",
    "    fig.update_traces(hovertemplate=None)\n",
    "    fig.write_html(plot_dir / f'{plot_me[0]}.html', full_html=False, include_plotlyjs='directory')\n",
    "    # fig.show()"
   ],
   "id": "b31500f218543d45",
   "outputs": [],
   "execution_count": 19
  },
  {
   "cell_type": "code",
   "source": [
    "def get_write_latency_summary(scenario: Scenario):\n",
    "    result_pdf = scenario.map_experiment_long(lambda exp: pd.DataFrame(exp.client_pdf(CLIENT_WRITE_SUCESS_MSG)[['duration']].agg('mean'), columns=['mean_write_latency']))\n",
    "    result_pdf['scenario'] = scenario.name\n",
    "    return result_pdf.set_index(['scenario', 'experiment'])\n",
    "write_latencies_summary_pdf = pd.concat([get_write_latency_summary(flight_scenario), get_write_latency_summary(forum_scenario)])\n",
    "write_latencies_summary_pdf"
   ],
   "metadata": {
    "collapsed": false,
    "ExecuteTime": {
     "end_time": "2024-10-23T14:57:14.441357Z",
     "start_time": "2024-10-23T14:57:14.410340Z"
    }
   },
   "id": "d79a9b0ced8e5df1",
   "outputs": [
    {
     "data": {
      "text/plain": [
       "                        mean_write_latency\n",
       "scenario experiment                       \n",
       "flights  CRDT                   403.502860\n",
       "         TTL (5min)             212.775427\n",
       "         None                   331.342301\n",
       "         Invalidations          214.493777\n",
       "forums   CRDT                   189.800109\n",
       "         TTL (5min)             305.924864\n",
       "         None                   370.840189\n",
       "         Invalidations          326.099348"
      ],
      "text/html": [
       "<div>\n",
       "<style scoped>\n",
       "    .dataframe tbody tr th:only-of-type {\n",
       "        vertical-align: middle;\n",
       "    }\n",
       "\n",
       "    .dataframe tbody tr th {\n",
       "        vertical-align: top;\n",
       "    }\n",
       "\n",
       "    .dataframe thead th {\n",
       "        text-align: right;\n",
       "    }\n",
       "</style>\n",
       "<table border=\"1\" class=\"dataframe\">\n",
       "  <thead>\n",
       "    <tr style=\"text-align: right;\">\n",
       "      <th></th>\n",
       "      <th></th>\n",
       "      <th>mean_write_latency</th>\n",
       "    </tr>\n",
       "    <tr>\n",
       "      <th>scenario</th>\n",
       "      <th>experiment</th>\n",
       "      <th></th>\n",
       "    </tr>\n",
       "  </thead>\n",
       "  <tbody>\n",
       "    <tr>\n",
       "      <th rowspan=\"4\" valign=\"top\">flights</th>\n",
       "      <th>CRDT</th>\n",
       "      <td>403.502860</td>\n",
       "    </tr>\n",
       "    <tr>\n",
       "      <th>TTL (5min)</th>\n",
       "      <td>212.775427</td>\n",
       "    </tr>\n",
       "    <tr>\n",
       "      <th>None</th>\n",
       "      <td>331.342301</td>\n",
       "    </tr>\n",
       "    <tr>\n",
       "      <th>Invalidations</th>\n",
       "      <td>214.493777</td>\n",
       "    </tr>\n",
       "    <tr>\n",
       "      <th rowspan=\"4\" valign=\"top\">forums</th>\n",
       "      <th>CRDT</th>\n",
       "      <td>189.800109</td>\n",
       "    </tr>\n",
       "    <tr>\n",
       "      <th>TTL (5min)</th>\n",
       "      <td>305.924864</td>\n",
       "    </tr>\n",
       "    <tr>\n",
       "      <th>None</th>\n",
       "      <td>370.840189</td>\n",
       "    </tr>\n",
       "    <tr>\n",
       "      <th>Invalidations</th>\n",
       "      <td>326.099348</td>\n",
       "    </tr>\n",
       "  </tbody>\n",
       "</table>\n",
       "</div>"
      ]
     },
     "execution_count": 20,
     "metadata": {},
     "output_type": "execute_result"
    }
   ],
   "execution_count": 20
  },
  {
   "cell_type": "code",
   "source": [
    "def calculate_inconsistency_window(exp: Experiment):\n",
    "    origin_pdf = exp.origin_df()\n",
    "    client_pdf = exp.client_pdf()\n",
    "    origin_pdf = origin_pdf[origin_pdf['version'] > 0]\n",
    "    origin_pdf['last_version'] = origin_pdf['version'] - 1\n",
    "    \n",
    "    client_pdf = client_pdf.set_index(['object', 'version'])\n",
    "    client_pdf['time'] = client_pdf['time'] / 10**3\n",
    "    \n",
    "    joined_pdf = origin_pdf.join(client_pdf, on=['object', 'last_version'], lsuffix='_origin', rsuffix='_client', how='inner')[['active_clients_origin', 'object', 'version', 'time_origin', 'time_client']]\\\n",
    "        .groupby(['active_clients_origin', 'object', 'version', 'time_origin']).agg('max').reset_index()\n",
    "    \n",
    "    joined_pdf['inconsistency_window'] = (joined_pdf['time_client'] - joined_pdf['time_origin']) / 10**3\n",
    "    \n",
    "    joined_pdf.loc[joined_pdf['inconsistency_window'] < 0, 'inconsistency_window'] = 0\n",
    "    return joined_pdf"
   ],
   "metadata": {
    "collapsed": false,
    "ExecuteTime": {
     "end_time": "2024-10-23T14:57:14.448022Z",
     "start_time": "2024-10-23T14:57:14.443480Z"
    }
   },
   "id": "4ab8afbdc5d6cd80",
   "outputs": [],
   "execution_count": 21
  },
  {
   "cell_type": "code",
   "source": [
    "inconsistency_windows_flights = [ (exp, calculate_inconsistency_window(exp)) for exp in flight_scenario.experiments]"
   ],
   "metadata": {
    "collapsed": false,
    "ExecuteTime": {
     "end_time": "2024-10-23T14:57:29.588682Z",
     "start_time": "2024-10-23T14:57:14.449722Z"
    }
   },
   "id": "503bd65bb239b1eb",
   "outputs": [],
   "execution_count": 22
  },
  {
   "cell_type": "code",
   "source": [
    "inconsistency_windows_forums = [ (exp, calculate_inconsistency_window(exp)) for exp in forum_scenario.experiments]"
   ],
   "metadata": {
    "collapsed": false,
    "ExecuteTime": {
     "end_time": "2024-10-23T14:57:57.506103Z",
     "start_time": "2024-10-23T14:57:29.591411Z"
    }
   },
   "id": "5cdfc0f8aab3dc61",
   "outputs": [],
   "execution_count": 23
  },
  {
   "cell_type": "code",
   "source": [
    "def get_inconsistency_summary(inconsistency_windows, scenario: Scenario):\n",
    "    results = []\n",
    "    for exp, window_df in inconsistency_windows:\n",
    "        r_pdf = pd.DataFrame(window_df[['inconsistency_window']].agg('mean'), columns=['mean_inconsistency_windows'])\n",
    "        r_pdf['experiment'] = exp.name\n",
    "        results.append(r_pdf)\n",
    "    result_pdf = pd.concat(results)\n",
    "    result_pdf['scenario'] = scenario.name\n",
    "    return result_pdf.set_index(['scenario', 'experiment'])\n",
    "inconsistency_summary_pdf = pd.concat([get_inconsistency_summary(inconsistency_windows_flights, flight_scenario), get_inconsistency_summary(inconsistency_windows_forums, forum_scenario)])\n",
    "inconsistency_summary_pdf"
   ],
   "metadata": {
    "collapsed": false,
    "ExecuteTime": {
     "end_time": "2024-10-23T14:57:57.545684Z",
     "start_time": "2024-10-23T14:57:57.509212Z"
    }
   },
   "id": "179bbf6112f84156",
   "outputs": [
    {
     "data": {
      "text/plain": [
       "                        mean_inconsistency_windows\n",
       "scenario experiment                               \n",
       "flights  CRDT                           700.993933\n",
       "         TTL (5min)                  279166.692724\n",
       "         None                             2.533221\n",
       "         Invalidations                 1194.422942\n",
       "forums   CRDT                          1948.594033\n",
       "         TTL (5min)                  287586.321343\n",
       "         None                             1.346570\n",
       "         Invalidations                 3684.819896"
      ],
      "text/html": [
       "<div>\n",
       "<style scoped>\n",
       "    .dataframe tbody tr th:only-of-type {\n",
       "        vertical-align: middle;\n",
       "    }\n",
       "\n",
       "    .dataframe tbody tr th {\n",
       "        vertical-align: top;\n",
       "    }\n",
       "\n",
       "    .dataframe thead th {\n",
       "        text-align: right;\n",
       "    }\n",
       "</style>\n",
       "<table border=\"1\" class=\"dataframe\">\n",
       "  <thead>\n",
       "    <tr style=\"text-align: right;\">\n",
       "      <th></th>\n",
       "      <th></th>\n",
       "      <th>mean_inconsistency_windows</th>\n",
       "    </tr>\n",
       "    <tr>\n",
       "      <th>scenario</th>\n",
       "      <th>experiment</th>\n",
       "      <th></th>\n",
       "    </tr>\n",
       "  </thead>\n",
       "  <tbody>\n",
       "    <tr>\n",
       "      <th rowspan=\"4\" valign=\"top\">flights</th>\n",
       "      <th>CRDT</th>\n",
       "      <td>700.993933</td>\n",
       "    </tr>\n",
       "    <tr>\n",
       "      <th>TTL (5min)</th>\n",
       "      <td>279166.692724</td>\n",
       "    </tr>\n",
       "    <tr>\n",
       "      <th>None</th>\n",
       "      <td>2.533221</td>\n",
       "    </tr>\n",
       "    <tr>\n",
       "      <th>Invalidations</th>\n",
       "      <td>1194.422942</td>\n",
       "    </tr>\n",
       "    <tr>\n",
       "      <th rowspan=\"4\" valign=\"top\">forums</th>\n",
       "      <th>CRDT</th>\n",
       "      <td>1948.594033</td>\n",
       "    </tr>\n",
       "    <tr>\n",
       "      <th>TTL (5min)</th>\n",
       "      <td>287586.321343</td>\n",
       "    </tr>\n",
       "    <tr>\n",
       "      <th>None</th>\n",
       "      <td>1.346570</td>\n",
       "    </tr>\n",
       "    <tr>\n",
       "      <th>Invalidations</th>\n",
       "      <td>3684.819896</td>\n",
       "    </tr>\n",
       "  </tbody>\n",
       "</table>\n",
       "</div>"
      ]
     },
     "execution_count": 24,
     "metadata": {},
     "output_type": "execute_result"
    }
   ],
   "execution_count": 24
  },
  {
   "cell_type": "code",
   "source": [
    "def calculate_staleness_df(exp: Experiment):\n",
    "    origin_pdf = exp.origin_df()\n",
    "    client_pdf = exp.client_pdf()\n",
    "    origin_pdf = origin_pdf[origin_pdf['version'] > 0]\n",
    "    origin_pdf['next_version'] = origin_pdf['version'] - 1\n",
    "    origin_pdf = origin_pdf.set_index(['object', 'next_version'])\n",
    "    \n",
    "    joined_pdf = client_pdf.join(origin_pdf, on=['object', 'version'], rsuffix='_origin', validate='many_to_one')\n",
    "    joined_pdf['time'] = joined_pdf['time'] / 10**3\n",
    "    \n",
    "    joined_pdf['stale'] = joined_pdf['time'] > joined_pdf['time_origin']\n",
    "    return joined_pdf[['active_clients', 'stale']]\n",
    "\n",
    "def calculate_staleness_summary_df(scenario: Scenario):\n",
    "    result_pdf = scenario.map_experiment_long(lambda exp: calculate_staleness_df(exp).groupby('active_clients').agg(['count', 'sum']))\n",
    "    result_pdf = result_pdf.groupby('experiment').agg('sum').reset_index()\n",
    "    result_pdf['scenario'] = scenario.name\n",
    "    result_pdf['staleness_ratio'] = result_pdf[('stale', 'sum')] / result_pdf[('stale', 'count')]\n",
    "    return result_pdf.set_index(['scenario', 'experiment'])['staleness_ratio']"
   ],
   "metadata": {
    "collapsed": false,
    "ExecuteTime": {
     "end_time": "2024-10-23T14:57:57.553395Z",
     "start_time": "2024-10-23T14:57:57.547672Z"
    }
   },
   "id": "c3c78663cad551b",
   "outputs": [],
   "execution_count": 25
  },
  {
   "cell_type": "code",
   "source": [
    "staleness_summary_df = pd.concat(map(calculate_staleness_summary_df, [flight_scenario, forum_scenario]))\n",
    "staleness_summary_df"
   ],
   "metadata": {
    "collapsed": false,
    "ExecuteTime": {
     "end_time": "2024-10-23T14:58:37.668818Z",
     "start_time": "2024-10-23T14:57:57.554876Z"
    }
   },
   "id": "5544d49624575b1a",
   "outputs": [
    {
     "data": {
      "text/plain": [
       "scenario  experiment   \n",
       "flights   CRDT             0.065375\n",
       "          Invalidations    0.608033\n",
       "          None             0.060372\n",
       "          TTL (5min)       0.982942\n",
       "forums    CRDT             0.260229\n",
       "          Invalidations    0.168215\n",
       "          None             0.005777\n",
       "          TTL (5min)       0.493068\n",
       "Name: staleness_ratio, dtype: float64"
      ]
     },
     "execution_count": 26,
     "metadata": {},
     "output_type": "execute_result"
    }
   ],
   "execution_count": 26
  },
  {
   "cell_type": "code",
   "source": [
    "def calculate_cache_hit_ratio(exp: Experiment):\n",
    "    client_success_pdf = exp.client_pdf()\n",
    "    r_pdf = client_success_pdf[['active_clients', 'type', 'cached']].groupby('active_clients').agg(['count', 'sum'])\n",
    "    r = r_pdf[('cached', 'sum')] / r_pdf[('type', 'count')]\n",
    "    return r\n",
    "\n",
    "cache_hit_ratio_per_client_flights_pdf = flight_scenario.map_experiment(calculate_cache_hit_ratio)\n",
    "cache_hit_ratio_per_client_forums_pdf = forum_scenario.map_experiment(calculate_cache_hit_ratio)"
   ],
   "metadata": {
    "collapsed": false,
    "ExecuteTime": {
     "end_time": "2024-10-23T14:59:36.506055Z",
     "start_time": "2024-10-23T14:58:37.671414Z"
    }
   },
   "id": "23bfbdd06852fead",
   "outputs": [],
   "execution_count": 27
  },
  {
   "cell_type": "code",
   "source": [
    "def calculate_cache_hit_ratio_summary(scenario: Scenario):\n",
    "    my_pdf = scenario.map_experiment_long(lambda exp: exp.client_pdf()[['active_clients', 'type', 'cached']].groupby('active_clients').agg(['count', 'sum']))\n",
    "    result_pdf = my_pdf.groupby('experiment').agg('sum').reset_index()\n",
    "    \n",
    "    result_pdf['scenario'] = scenario.name\n",
    "    result_pdf['cache_hit_ratio'] = result_pdf[('cached', 'sum')] / result_pdf[('type', 'count')]\n",
    "    return result_pdf[['scenario', 'experiment', 'cache_hit_ratio']].set_index(['scenario', 'experiment'])['cache_hit_ratio']\n",
    "cache_hit_ratio_summary_pdf = pd.concat(map(calculate_cache_hit_ratio_summary, [flight_scenario, forum_scenario]))\n",
    "cache_hit_ratio_summary_pdf"
   ],
   "metadata": {
    "collapsed": false,
    "ExecuteTime": {
     "end_time": "2024-10-23T15:00:38.807361Z",
     "start_time": "2024-10-23T14:59:36.508916Z"
    }
   },
   "id": "d6de351b6950be5c",
   "outputs": [
    {
     "data": {
      "text/plain": [
       "scenario  experiment   \n",
       "flights   CRDT             0.975134\n",
       "          Invalidations    0.795493\n",
       "          None             0.000000\n",
       "          TTL (5min)       0.993223\n",
       "forums    CRDT             0.999823\n",
       "          Invalidations    0.812426\n",
       "          None             0.000000\n",
       "          TTL (5min)       0.995976\n",
       "Name: cache_hit_ratio, dtype: float64"
      ]
     },
     "execution_count": 28,
     "metadata": {},
     "output_type": "execute_result"
    }
   ],
   "execution_count": 28
  },
  {
   "cell_type": "code",
   "source": [
    "# Summary Table\n",
    "# total requests, mean read, mean write, mean inconsistency window, staleness ratio, cache hit ratio, \n",
    "summary_table = pd.concat([total_requests_summary, read_latencies_summary_pdf, write_latencies_summary_pdf, inconsistency_summary_pdf, staleness_summary_df, cache_hit_ratio_summary_pdf], axis=1)\n",
    "summary_table['total_requests_per_second'] = summary_table['total_requests_per_second'].apply(lambda x: f'{x:.1f}')\n",
    "for ratio_column in ['staleness_ratio', 'cache_hit_ratio']:\n",
    "    summary_table[ratio_column] = summary_table[ratio_column].apply(lambda x: f'{x:.1%}')\n",
    "for float_column in ['mean_read_latency', 'mean_write_latency', 'mean_inconsistency_windows']:\n",
    "    summary_table[float_column] = summary_table[float_column].apply(lambda x: f'{x / (1000 * 60):.1f}min' if x > 10000 else f'{x:.1f}ms')\n",
    "summary_table"
   ],
   "metadata": {
    "collapsed": false,
    "ExecuteTime": {
     "end_time": "2024-10-23T15:00:38.826319Z",
     "start_time": "2024-10-23T15:00:38.808871Z"
    }
   },
   "id": "80e4cef01cfa394b",
   "outputs": [
    {
     "data": {
      "text/plain": [
       "                       total_requests_per_second mean_read_latency  \\\n",
       "scenario experiment                                                  \n",
       "flights  CRDT                              252.3            91.1ms   \n",
       "         TTL (5min)                        281.1            79.1ms   \n",
       "         None                              148.6           334.9ms   \n",
       "         Invalidations                     200.7           106.8ms   \n",
       "forums   CRDT                              527.3            94.7ms   \n",
       "         TTL (5min)                        512.1            85.0ms   \n",
       "         None                              270.0           185.0ms   \n",
       "         Invalidations                     437.7           105.5ms   \n",
       "\n",
       "                       mean_write_latency mean_inconsistency_windows  \\\n",
       "scenario experiment                                                    \n",
       "flights  CRDT                     403.5ms                    701.0ms   \n",
       "         TTL (5min)               212.8ms                     4.7min   \n",
       "         None                     331.3ms                      2.5ms   \n",
       "         Invalidations            214.5ms                   1194.4ms   \n",
       "forums   CRDT                     189.8ms                   1948.6ms   \n",
       "         TTL (5min)               305.9ms                     4.8min   \n",
       "         None                     370.8ms                      1.3ms   \n",
       "         Invalidations            326.1ms                   3684.8ms   \n",
       "\n",
       "                       staleness_ratio cache_hit_ratio  \n",
       "scenario experiment                                     \n",
       "flights  CRDT                     6.5%           97.5%  \n",
       "         TTL (5min)              98.3%           99.3%  \n",
       "         None                     6.0%            0.0%  \n",
       "         Invalidations           60.8%           79.5%  \n",
       "forums   CRDT                    26.0%          100.0%  \n",
       "         TTL (5min)              49.3%           99.6%  \n",
       "         None                     0.6%            0.0%  \n",
       "         Invalidations           16.8%           81.2%  "
      ],
      "text/html": [
       "<div>\n",
       "<style scoped>\n",
       "    .dataframe tbody tr th:only-of-type {\n",
       "        vertical-align: middle;\n",
       "    }\n",
       "\n",
       "    .dataframe tbody tr th {\n",
       "        vertical-align: top;\n",
       "    }\n",
       "\n",
       "    .dataframe thead th {\n",
       "        text-align: right;\n",
       "    }\n",
       "</style>\n",
       "<table border=\"1\" class=\"dataframe\">\n",
       "  <thead>\n",
       "    <tr style=\"text-align: right;\">\n",
       "      <th></th>\n",
       "      <th></th>\n",
       "      <th>total_requests_per_second</th>\n",
       "      <th>mean_read_latency</th>\n",
       "      <th>mean_write_latency</th>\n",
       "      <th>mean_inconsistency_windows</th>\n",
       "      <th>staleness_ratio</th>\n",
       "      <th>cache_hit_ratio</th>\n",
       "    </tr>\n",
       "    <tr>\n",
       "      <th>scenario</th>\n",
       "      <th>experiment</th>\n",
       "      <th></th>\n",
       "      <th></th>\n",
       "      <th></th>\n",
       "      <th></th>\n",
       "      <th></th>\n",
       "      <th></th>\n",
       "    </tr>\n",
       "  </thead>\n",
       "  <tbody>\n",
       "    <tr>\n",
       "      <th rowspan=\"4\" valign=\"top\">flights</th>\n",
       "      <th>CRDT</th>\n",
       "      <td>252.3</td>\n",
       "      <td>91.1ms</td>\n",
       "      <td>403.5ms</td>\n",
       "      <td>701.0ms</td>\n",
       "      <td>6.5%</td>\n",
       "      <td>97.5%</td>\n",
       "    </tr>\n",
       "    <tr>\n",
       "      <th>TTL (5min)</th>\n",
       "      <td>281.1</td>\n",
       "      <td>79.1ms</td>\n",
       "      <td>212.8ms</td>\n",
       "      <td>4.7min</td>\n",
       "      <td>98.3%</td>\n",
       "      <td>99.3%</td>\n",
       "    </tr>\n",
       "    <tr>\n",
       "      <th>None</th>\n",
       "      <td>148.6</td>\n",
       "      <td>334.9ms</td>\n",
       "      <td>331.3ms</td>\n",
       "      <td>2.5ms</td>\n",
       "      <td>6.0%</td>\n",
       "      <td>0.0%</td>\n",
       "    </tr>\n",
       "    <tr>\n",
       "      <th>Invalidations</th>\n",
       "      <td>200.7</td>\n",
       "      <td>106.8ms</td>\n",
       "      <td>214.5ms</td>\n",
       "      <td>1194.4ms</td>\n",
       "      <td>60.8%</td>\n",
       "      <td>79.5%</td>\n",
       "    </tr>\n",
       "    <tr>\n",
       "      <th rowspan=\"4\" valign=\"top\">forums</th>\n",
       "      <th>CRDT</th>\n",
       "      <td>527.3</td>\n",
       "      <td>94.7ms</td>\n",
       "      <td>189.8ms</td>\n",
       "      <td>1948.6ms</td>\n",
       "      <td>26.0%</td>\n",
       "      <td>100.0%</td>\n",
       "    </tr>\n",
       "    <tr>\n",
       "      <th>TTL (5min)</th>\n",
       "      <td>512.1</td>\n",
       "      <td>85.0ms</td>\n",
       "      <td>305.9ms</td>\n",
       "      <td>4.8min</td>\n",
       "      <td>49.3%</td>\n",
       "      <td>99.6%</td>\n",
       "    </tr>\n",
       "    <tr>\n",
       "      <th>None</th>\n",
       "      <td>270.0</td>\n",
       "      <td>185.0ms</td>\n",
       "      <td>370.8ms</td>\n",
       "      <td>1.3ms</td>\n",
       "      <td>0.6%</td>\n",
       "      <td>0.0%</td>\n",
       "    </tr>\n",
       "    <tr>\n",
       "      <th>Invalidations</th>\n",
       "      <td>437.7</td>\n",
       "      <td>105.5ms</td>\n",
       "      <td>326.1ms</td>\n",
       "      <td>3684.8ms</td>\n",
       "      <td>16.8%</td>\n",
       "      <td>81.2%</td>\n",
       "    </tr>\n",
       "  </tbody>\n",
       "</table>\n",
       "</div>"
      ]
     },
     "execution_count": 29,
     "metadata": {},
     "output_type": "execute_result"
    }
   ],
   "execution_count": 29
  },
  {
   "cell_type": "code",
   "source": [
    "print(summary_table.to_latex().replace('_', ' ').replace('%', '\\\\%'))"
   ],
   "metadata": {
    "collapsed": false,
    "ExecuteTime": {
     "end_time": "2024-10-23T15:00:38.931285Z",
     "start_time": "2024-10-23T15:00:38.828373Z"
    }
   },
   "id": "3138ecb4174c394a",
   "outputs": [
    {
     "name": "stdout",
     "output_type": "stream",
     "text": [
      "\\begin{tabular}{llllllll}\n",
      "\\toprule\n",
      " &  & total requests per second & mean read latency & mean write latency & mean inconsistency windows & staleness ratio & cache hit ratio \\\\\n",
      "scenario & experiment &  &  &  &  &  &  \\\\\n",
      "\\midrule\n",
      "\\multirow[t]{4}{*}{flights} & CRDT & 252.3 & 91.1ms & 403.5ms & 701.0ms & 6.5\\% & 97.5\\% \\\\\n",
      " & TTL (5min) & 281.1 & 79.1ms & 212.8ms & 4.7min & 98.3\\% & 99.3\\% \\\\\n",
      " & None & 148.6 & 334.9ms & 331.3ms & 2.5ms & 6.0\\% & 0.0\\% \\\\\n",
      " & Invalidations & 200.7 & 106.8ms & 214.5ms & 1194.4ms & 60.8\\% & 79.5\\% \\\\\n",
      "\\cline{1-8}\n",
      "\\multirow[t]{4}{*}{forums} & CRDT & 527.3 & 94.7ms & 189.8ms & 1948.6ms & 26.0\\% & 100.0\\% \\\\\n",
      " & TTL (5min) & 512.1 & 85.0ms & 305.9ms & 4.8min & 49.3\\% & 99.6\\% \\\\\n",
      " & None & 270.0 & 185.0ms & 370.8ms & 1.3ms & 0.6\\% & 0.0\\% \\\\\n",
      " & Invalidations & 437.7 & 105.5ms & 326.1ms & 3684.8ms & 16.8\\% & 81.2\\% \\\\\n",
      "\\cline{1-8}\n",
      "\\bottomrule\n",
      "\\end{tabular}\n",
      "\n"
     ]
    }
   ],
   "execution_count": 30
  }
 ],
 "metadata": {
  "kernelspec": {
   "display_name": "Python 3",
   "language": "python",
   "name": "python3"
  },
  "language_info": {
   "codemirror_mode": {
    "name": "ipython",
    "version": 2
   },
   "file_extension": ".py",
   "mimetype": "text/x-python",
   "name": "python",
   "nbconvert_exporter": "python",
   "pygments_lexer": "ipython2",
   "version": "2.7.6"
  }
 },
 "nbformat": 4,
 "nbformat_minor": 5
}
